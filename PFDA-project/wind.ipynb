{
 "cells": [
  {
   "cell_type": "markdown",
   "metadata": {},
   "source": [
    "Project Ideas\n",
    "\n",
    "\n",
    "suggested project: analyse wind speed around the country with a view to a wind farm\n"
   ]
  },
  {
   "cell_type": "markdown",
   "metadata": {},
   "source": [
    "## Project Plan\n",
    "\n",
    "__Research wind farms in Ireland__\n",
    "\n",
    "- where are they usually located?\n",
    "- what wind conditions do they need? any other site considerations? Rural locations.\n",
    "- how much electricity do they generate? summer vs winter?\n",
    "- cost?\n",
    "- lifespan?\n",
    "- advantages\n",
    "- disadvantages\n",
    "- anything else?\n",
    "\n",
    "__Project questions__\n",
    "\n",
    "What's the relationship between wind speed and power generated? Does the wind direction affect power generation? \n",
    "\n",
    "Is there a trend in wind speed? Is Ireland getting winder? Variations across the year? Time of day?\n",
    "\n",
    "Is the technology in wind turbines improving? Is more electricity being generated for the same wind speed?\n",
    "\n",
    "Does rain/temperature/anything affect the output? \n",
    "\n",
    "What happens during a storm? Does amount of wind generated electricity decrease/increase? \n",
    "\n",
    "Predict power output for wind farms in Ireland for the next week. Tricky\n",
    "\n",
    "As I have weather information could solar power to fill the gaps when wind speeds are low? Probably too big a task for this project. \n",
    "\n",
    "\n",
    "__Find data__\n",
    "\n",
    "Weather data from met Éireann historical data.\n",
    "    can select by site, perhaps initially analyse data for a number of weather stations near a wind farm and also weather stations not near a wind farm. From the data can I see why that site was selected?\n",
    "\n",
    "Eirgrid real-time system information on a daily basis. https://www.eirgrid.ie/grid/real-time-system-information They only show one day at a time. Can view information up to one month ago. Found a Github repository Daniel-Parke, wrote a python file to download all the data. He has raw files for actual amount of electricity produced by wind, actual demand and actual generation by every 15 min, year from 2014. Data for 2024 isn't complete. Will need to run the program to get 2024 data. Therefore can compare wind speeds and generation from 2014. KEEP Looking - there might be a more official source.\n",
    "\n",
    "Is there much variation in wind across the country? Eirgrid data for entire country. "
   ]
  },
  {
   "cell_type": "markdown",
   "metadata": {},
   "source": [
    "## Introduction\n",
    "\n",
    "Background information"
   ]
  },
  {
   "cell_type": "markdown",
   "metadata": {},
   "source": [
    "## The Data\n",
    "\n",
    "About the data set. "
   ]
  },
  {
   "cell_type": "markdown",
   "metadata": {},
   "source": [
    "## Organising and Cleaning the Data\n",
    "\n",
    "Download the eirgrid csv files from the GitHub. \n",
    "\n",
    "Merge data. Write a function to do this. Would be convenient to have all the data in one large data set. Need to research working with large data sets. More difficult to load than smaller data sets.\n",
    "\n",
    "Clean data"
   ]
  },
  {
   "cell_type": "code",
   "execution_count": 2,
   "metadata": {},
   "outputs": [],
   "source": [
    "# Imports\n",
    "import pandas as pd\n",
    "import matplotlib.pyplot as plt\n",
    "import seaborn as sns\n",
    "import glob"
   ]
  },
  {
   "cell_type": "markdown",
   "metadata": {},
   "source": [
    "First task is to merge the files vertically. Use pd.concat\n",
    "\n",
    "research glob\n",
    "\n",
    "https://saturncloud.io/blog/how-to-read-multiple-csv-files-into-python-pandas-dataframe/#:~:text=We%20use%20the%20glob%20function,the%20read_csv%20function%20from%20Pandas."
   ]
  },
  {
   "cell_type": "code",
   "execution_count": null,
   "metadata": {},
   "outputs": [
    {
     "data": {
      "text/html": [
       "<div>\n",
       "<style scoped>\n",
       "    .dataframe tbody tr th:only-of-type {\n",
       "        vertical-align: middle;\n",
       "    }\n",
       "\n",
       "    .dataframe tbody tr th {\n",
       "        vertical-align: top;\n",
       "    }\n",
       "\n",
       "    .dataframe thead th {\n",
       "        text-align: right;\n",
       "    }\n",
       "</style>\n",
       "<table border=\"1\" class=\"dataframe\">\n",
       "  <thead>\n",
       "    <tr style=\"text-align: right;\">\n",
       "      <th></th>\n",
       "      <th>wind_value</th>\n",
       "    </tr>\n",
       "    <tr>\n",
       "      <th>date</th>\n",
       "      <th></th>\n",
       "    </tr>\n",
       "  </thead>\n",
       "  <tbody>\n",
       "    <tr>\n",
       "      <th>01-Jan-2014 00:00:00</th>\n",
       "      <td>1020.0</td>\n",
       "    </tr>\n",
       "    <tr>\n",
       "      <th>01-Jan-2014 00:15:00</th>\n",
       "      <td>995.0</td>\n",
       "    </tr>\n",
       "    <tr>\n",
       "      <th>01-Jan-2014 00:30:00</th>\n",
       "      <td>933.0</td>\n",
       "    </tr>\n",
       "    <tr>\n",
       "      <th>01-Jan-2014 00:45:00</th>\n",
       "      <td>959.0</td>\n",
       "    </tr>\n",
       "    <tr>\n",
       "      <th>01-Jan-2014 01:00:00</th>\n",
       "      <td>921.0</td>\n",
       "    </tr>\n",
       "    <tr>\n",
       "      <th>01-Jan-2014 01:15:00</th>\n",
       "      <td>931.0</td>\n",
       "    </tr>\n",
       "    <tr>\n",
       "      <th>01-Jan-2014 01:30:00</th>\n",
       "      <td>882.0</td>\n",
       "    </tr>\n",
       "    <tr>\n",
       "      <th>01-Jan-2014 01:45:00</th>\n",
       "      <td>923.0</td>\n",
       "    </tr>\n",
       "    <tr>\n",
       "      <th>01-Jan-2014 02:00:00</th>\n",
       "      <td>919.0</td>\n",
       "    </tr>\n",
       "    <tr>\n",
       "      <th>01-Jan-2014 02:15:00</th>\n",
       "      <td>944.0</td>\n",
       "    </tr>\n",
       "    <tr>\n",
       "      <th>01-Jan-2014 02:30:00</th>\n",
       "      <td>944.0</td>\n",
       "    </tr>\n",
       "    <tr>\n",
       "      <th>01-Jan-2014 02:45:00</th>\n",
       "      <td>947.0</td>\n",
       "    </tr>\n",
       "    <tr>\n",
       "      <th>01-Jan-2014 03:00:00</th>\n",
       "      <td>899.0</td>\n",
       "    </tr>\n",
       "    <tr>\n",
       "      <th>01-Jan-2014 03:15:00</th>\n",
       "      <td>929.0</td>\n",
       "    </tr>\n",
       "    <tr>\n",
       "      <th>01-Jan-2014 03:30:00</th>\n",
       "      <td>895.0</td>\n",
       "    </tr>\n",
       "    <tr>\n",
       "      <th>01-Jan-2014 03:45:00</th>\n",
       "      <td>922.0</td>\n",
       "    </tr>\n",
       "    <tr>\n",
       "      <th>01-Jan-2014 04:00:00</th>\n",
       "      <td>909.0</td>\n",
       "    </tr>\n",
       "    <tr>\n",
       "      <th>01-Jan-2014 04:15:00</th>\n",
       "      <td>894.0</td>\n",
       "    </tr>\n",
       "    <tr>\n",
       "      <th>01-Jan-2014 04:30:00</th>\n",
       "      <td>906.0</td>\n",
       "    </tr>\n",
       "    <tr>\n",
       "      <th>01-Jan-2014 04:45:00</th>\n",
       "      <td>951.0</td>\n",
       "    </tr>\n",
       "  </tbody>\n",
       "</table>\n",
       "</div>"
      ],
      "text/plain": [
       "                      wind_value\n",
       "date                            \n",
       "01-Jan-2014 00:00:00      1020.0\n",
       "01-Jan-2014 00:15:00       995.0\n",
       "01-Jan-2014 00:30:00       933.0\n",
       "01-Jan-2014 00:45:00       959.0\n",
       "01-Jan-2014 01:00:00       921.0\n",
       "01-Jan-2014 01:15:00       931.0\n",
       "01-Jan-2014 01:30:00       882.0\n",
       "01-Jan-2014 01:45:00       923.0\n",
       "01-Jan-2014 02:00:00       919.0\n",
       "01-Jan-2014 02:15:00       944.0\n",
       "01-Jan-2014 02:30:00       944.0\n",
       "01-Jan-2014 02:45:00       947.0\n",
       "01-Jan-2014 03:00:00       899.0\n",
       "01-Jan-2014 03:15:00       929.0\n",
       "01-Jan-2014 03:30:00       895.0\n",
       "01-Jan-2014 03:45:00       922.0\n",
       "01-Jan-2014 04:00:00       909.0\n",
       "01-Jan-2014 04:15:00       894.0\n",
       "01-Jan-2014 04:30:00       906.0\n",
       "01-Jan-2014 04:45:00       951.0"
      ]
     },
     "execution_count": 17,
     "metadata": {},
     "output_type": "execute_result"
    }
   ],
   "source": [
    "# Load the wind electricity files\n",
    "\n",
    "csv_files = glob.glob('data/electricity/*.csv')\n",
    "\n",
    "# Create an empty dataframe to store the combined data\n",
    "electricity_df = pd.DataFrame()\n",
    "\n",
    "# Loop through each CSV file and append its contents to the combined dataframe\n",
    "for csv_file in csv_files:\n",
    "    df = pd.read_csv(csv_file, \n",
    "                     header = None, \n",
    "                     names = ['date', 'wind_actual', 'location', 'wind_value'], \n",
    "                     index_col= 'date',\n",
    "                     usecols= ['date', 'wind_value'])\n",
    "    electricity_df = pd.concat([electricity_df, df])\n",
    "\n",
    "electricity_df.head(20)"
   ]
  },
  {
   "cell_type": "code",
   "execution_count": 18,
   "metadata": {},
   "outputs": [
    {
     "name": "stdout",
     "output_type": "stream",
     "text": [
      "<class 'pandas.core.frame.DataFrame'>\n",
      "Index: 361152 entries, 01-Jan-2014 00:00:00 to 01-Jan-2024 21:45:00\n",
      "Data columns (total 1 columns):\n",
      " #   Column      Non-Null Count   Dtype  \n",
      "---  ------      --------------   -----  \n",
      " 0   wind_value  361004 non-null  float64\n",
      "dtypes: float64(1)\n",
      "memory usage: 5.5+ MB\n"
     ]
    }
   ],
   "source": [
    "electricity_df.info()"
   ]
  },
  {
   "cell_type": "code",
   "execution_count": 19,
   "metadata": {},
   "outputs": [
    {
     "data": {
      "text/plain": [
       "wind_value    148\n",
       "dtype: int64"
      ]
     },
     "execution_count": 19,
     "metadata": {},
     "output_type": "execute_result"
    }
   ],
   "source": [
    "electricity_df.isna().sum()"
   ]
  },
  {
   "cell_type": "markdown",
   "metadata": {},
   "source": [
    "## Exploratory Data Analysis"
   ]
  },
  {
   "cell_type": "markdown",
   "metadata": {},
   "source": [
    "## Discussion of the Analysis\n",
    "\n",
    "nice plots"
   ]
  },
  {
   "cell_type": "markdown",
   "metadata": {},
   "source": [
    "## Machine Learning\n",
    "\n",
    "some predictive analysis."
   ]
  },
  {
   "cell_type": "markdown",
   "metadata": {},
   "source": [
    "## Conclusion\n",
    "\n"
   ]
  },
  {
   "cell_type": "markdown",
   "metadata": {},
   "source": [
    "## References\n",
    "\n",
    "### Data Sets\n",
    "\n",
    "[GitHub Daniel Parke]https://github.com/Daniel-Parke/EirGrid_Data_Download/tree/main\n"
   ]
  }
 ],
 "metadata": {
  "kernelspec": {
   "display_name": "base",
   "language": "python",
   "name": "python3"
  },
  "language_info": {
   "codemirror_mode": {
    "name": "ipython",
    "version": 3
   },
   "file_extension": ".py",
   "mimetype": "text/x-python",
   "name": "python",
   "nbconvert_exporter": "python",
   "pygments_lexer": "ipython3",
   "version": "3.11.9"
  }
 },
 "nbformat": 4,
 "nbformat_minor": 2
}

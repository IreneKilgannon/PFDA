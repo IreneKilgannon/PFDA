{
 "cells": [
  {
   "cell_type": "markdown",
   "metadata": {},
   "source": [
    "# Cleaning Wind Energy Data"
   ]
  },
  {
   "cell_type": "markdown",
   "metadata": {},
   "source": [
    "## Wind Energy Data\n",
    "\n",
    "The CSV files wind energy for 2014 - 2023 were downloaded from [Daniel Parke's GitHub repository](https://github.com/Daniel-Parke/EirGrid_Data_Download/tree/main). The data for 2024 was obtained by executing the script, download_electricity.py which was modified slightly from [eirgrid_downloader.py](https://github.com/Daniel-Parke/EirGrid_Data_Download/blob/main/eirgrid_downloader.py) to give the information required for this analysis.\n",
    "\n",
    "A blog entitled, [How to Read Multiple CSV Files in Python Pandas Dataframe](https://saturncloud.io/blog/how-to-read-multiple-csv-files-into-python-pandas-dataframe) provided a straightforward solution to reading and merging the CSV files into Pandas. The solution uses the glob function. [GeeksforGeeks.org](https://www.geeksforgeeks.org/how-to-use-glob-function-to-find-files-recursively-in-python/) states that glob is a built-in module used to retrieve files/pathnames matching a specified pattern. It assumes that all the CSV files have the same structure and it uses wild-cards, such as * and ? to make path retrieval simpler and convenient. Glob wild-cards look similar to regular expressions but they can have different meanings. The glob wild-card, * used here means match all.\n",
    "\n",
    "[Real python](https://realpython.com/get-all-files-in-directory-python/#conditional-listing-using-glob) states that glob.glob() returns a list of filenames that match a pattern, which in this case are CSV files. The CSV files found by glob, in the data/electricity directory are read into Pandas and concatenated using pd.concat() to merge the CSV files.\n",
    "\n",
    "```python\n",
    "# Search for all CSV files in the current working directory\n",
    "import glob\n",
    "glob.glob('*.csv')\n",
    "```"
   ]
  },
  {
   "cell_type": "code",
   "execution_count": 1,
   "metadata": {},
   "outputs": [],
   "source": [
    "# Import modules\n",
    "import pandas as pd\n",
    "import glob"
   ]
  },
  {
   "cell_type": "code",
   "execution_count": 2,
   "metadata": {},
   "outputs": [],
   "source": [
    "# Find all CSV files in the data/electricity directory\n",
    "csv_files = glob.glob('data/wind_electricity/*.csv')"
   ]
  },
  {
   "cell_type": "code",
   "execution_count": 3,
   "metadata": {},
   "outputs": [
    {
     "data": {
      "text/html": [
       "<div>\n",
       "<style scoped>\n",
       "    .dataframe tbody tr th:only-of-type {\n",
       "        vertical-align: middle;\n",
       "    }\n",
       "\n",
       "    .dataframe tbody tr th {\n",
       "        vertical-align: top;\n",
       "    }\n",
       "\n",
       "    .dataframe thead th {\n",
       "        text-align: right;\n",
       "    }\n",
       "</style>\n",
       "<table border=\"1\" class=\"dataframe\">\n",
       "  <thead>\n",
       "    <tr style=\"text-align: right;\">\n",
       "      <th></th>\n",
       "      <th>wind_energy</th>\n",
       "    </tr>\n",
       "    <tr>\n",
       "      <th>date</th>\n",
       "      <th></th>\n",
       "    </tr>\n",
       "  </thead>\n",
       "  <tbody>\n",
       "    <tr>\n",
       "      <th>2014-01-01 00:00:00</th>\n",
       "      <td>1020.0</td>\n",
       "    </tr>\n",
       "    <tr>\n",
       "      <th>2014-01-01 00:15:00</th>\n",
       "      <td>995.0</td>\n",
       "    </tr>\n",
       "    <tr>\n",
       "      <th>2014-01-01 00:30:00</th>\n",
       "      <td>933.0</td>\n",
       "    </tr>\n",
       "    <tr>\n",
       "      <th>2014-01-01 00:45:00</th>\n",
       "      <td>959.0</td>\n",
       "    </tr>\n",
       "    <tr>\n",
       "      <th>2014-01-01 01:00:00</th>\n",
       "      <td>921.0</td>\n",
       "    </tr>\n",
       "  </tbody>\n",
       "</table>\n",
       "</div>"
      ],
      "text/plain": [
       "                     wind_energy\n",
       "date                            \n",
       "2014-01-01 00:00:00       1020.0\n",
       "2014-01-01 00:15:00        995.0\n",
       "2014-01-01 00:30:00        933.0\n",
       "2014-01-01 00:45:00        959.0\n",
       "2014-01-01 01:00:00        921.0"
      ]
     },
     "execution_count": 3,
     "metadata": {},
     "output_type": "execute_result"
    }
   ],
   "source": [
    "# Create an empty dataframe to store the combined data\n",
    "electricity_df = pd.DataFrame()\n",
    "\n",
    "# Loop through each CSV file found by glob and append contents to electricity_df\n",
    "for csv_file in csv_files:\n",
    "    df = pd.read_csv(csv_file, \n",
    "                     header = None, \n",
    "                     names = ['date', 'wind_actual', 'location', 'wind_energy'], \n",
    "                     index_col= 'date',\n",
    "                     parse_dates= ['date'],\n",
    "                     usecols= ['date', 'wind_energy'])\n",
    "    \n",
    "    # Concatenate df to electricity_df\n",
    "    electricity_df = pd.concat([electricity_df, df])\n",
    "\n",
    "    # Sort electricity_df by index\n",
    "    electricity_df.sort_index(inplace= True)\n",
    "\n",
    "electricity_df.head()"
   ]
  },
  {
   "cell_type": "code",
   "execution_count": 4,
   "metadata": {},
   "outputs": [],
   "source": [
    "# Rename columns to include units\n",
    "electricity_df.rename({'wind_energy' : 'Wind Energy (MW)'}, axis = 'columns', inplace= True)"
   ]
  },
  {
   "cell_type": "code",
   "execution_count": 5,
   "metadata": {},
   "outputs": [
    {
     "data": {
      "text/plain": [
       "(397344, 1)"
      ]
     },
     "execution_count": 5,
     "metadata": {},
     "output_type": "execute_result"
    }
   ],
   "source": [
    "# Shape of the dataframe\n",
    "electricity_df.shape"
   ]
  },
  {
   "cell_type": "code",
   "execution_count": 6,
   "metadata": {},
   "outputs": [
    {
     "name": "stdout",
     "output_type": "stream",
     "text": [
      "<class 'pandas.core.frame.DataFrame'>\n",
      "DatetimeIndex: 397344 entries, 2014-01-01 00:00:00 to 2025-01-01 21:45:00\n",
      "Data columns (total 1 columns):\n",
      " #   Column            Non-Null Count   Dtype  \n",
      "---  ------            --------------   -----  \n",
      " 0   Wind Energy (MW)  397177 non-null  float64\n",
      "dtypes: float64(1)\n",
      "memory usage: 6.1 MB\n"
     ]
    }
   ],
   "source": [
    "electricity_df.info()"
   ]
  },
  {
   "cell_type": "code",
   "execution_count": 7,
   "metadata": {},
   "outputs": [
    {
     "data": {
      "text/plain": [
       "Wind Energy (MW)    167\n",
       "dtype: int64"
      ]
     },
     "execution_count": 7,
     "metadata": {},
     "output_type": "execute_result"
    }
   ],
   "source": [
    "# Count the rows with missing information\n",
    "electricity_df.isna().sum()"
   ]
  },
  {
   "cell_type": "markdown",
   "metadata": {},
   "source": [
    "The data set has almost 400,000 rows. The amount of electricity produced by wind energy is recorded every 15 min. There are surprisingly few rows with missing data. Only 167 rows have missing information.\n",
    "\n",
    "https://saturncloud.io/blog/how-to-find-all-rows-with-nan-values-in-python-pandas/\n",
    "\n",
    "https://stackoverflow.com/questions/43424199/display-rows-with-one-or-more-nan-values-in-pandas-dataframe"
   ]
  },
  {
   "cell_type": "code",
   "execution_count": 8,
   "metadata": {},
   "outputs": [
    {
     "data": {
      "text/html": [
       "<div>\n",
       "<style scoped>\n",
       "    .dataframe tbody tr th:only-of-type {\n",
       "        vertical-align: middle;\n",
       "    }\n",
       "\n",
       "    .dataframe tbody tr th {\n",
       "        vertical-align: top;\n",
       "    }\n",
       "\n",
       "    .dataframe thead th {\n",
       "        text-align: right;\n",
       "    }\n",
       "</style>\n",
       "<table border=\"1\" class=\"dataframe\">\n",
       "  <thead>\n",
       "    <tr style=\"text-align: right;\">\n",
       "      <th></th>\n",
       "      <th>Wind Energy (MW)</th>\n",
       "    </tr>\n",
       "    <tr>\n",
       "      <th>date</th>\n",
       "      <th></th>\n",
       "    </tr>\n",
       "  </thead>\n",
       "  <tbody>\n",
       "    <tr>\n",
       "      <th>2014-03-30 01:00:00</th>\n",
       "      <td>NaN</td>\n",
       "    </tr>\n",
       "    <tr>\n",
       "      <th>2014-03-30 01:15:00</th>\n",
       "      <td>NaN</td>\n",
       "    </tr>\n",
       "    <tr>\n",
       "      <th>2014-03-30 01:30:00</th>\n",
       "      <td>NaN</td>\n",
       "    </tr>\n",
       "    <tr>\n",
       "      <th>2014-03-30 01:45:00</th>\n",
       "      <td>NaN</td>\n",
       "    </tr>\n",
       "    <tr>\n",
       "      <th>2015-03-29 01:00:00</th>\n",
       "      <td>NaN</td>\n",
       "    </tr>\n",
       "    <tr>\n",
       "      <th>...</th>\n",
       "      <td>...</td>\n",
       "    </tr>\n",
       "    <tr>\n",
       "      <th>2025-01-01 20:45:00</th>\n",
       "      <td>NaN</td>\n",
       "    </tr>\n",
       "    <tr>\n",
       "      <th>2025-01-01 21:00:00</th>\n",
       "      <td>NaN</td>\n",
       "    </tr>\n",
       "    <tr>\n",
       "      <th>2025-01-01 21:15:00</th>\n",
       "      <td>NaN</td>\n",
       "    </tr>\n",
       "    <tr>\n",
       "      <th>2025-01-01 21:30:00</th>\n",
       "      <td>NaN</td>\n",
       "    </tr>\n",
       "    <tr>\n",
       "      <th>2025-01-01 21:45:00</th>\n",
       "      <td>NaN</td>\n",
       "    </tr>\n",
       "  </tbody>\n",
       "</table>\n",
       "<p>167 rows × 1 columns</p>\n",
       "</div>"
      ],
      "text/plain": [
       "                     Wind Energy (MW)\n",
       "date                                 \n",
       "2014-03-30 01:00:00               NaN\n",
       "2014-03-30 01:15:00               NaN\n",
       "2014-03-30 01:30:00               NaN\n",
       "2014-03-30 01:45:00               NaN\n",
       "2015-03-29 01:00:00               NaN\n",
       "...                               ...\n",
       "2025-01-01 20:45:00               NaN\n",
       "2025-01-01 21:00:00               NaN\n",
       "2025-01-01 21:15:00               NaN\n",
       "2025-01-01 21:30:00               NaN\n",
       "2025-01-01 21:45:00               NaN\n",
       "\n",
       "[167 rows x 1 columns]"
      ]
     },
     "execution_count": 8,
     "metadata": {},
     "output_type": "execute_result"
    }
   ],
   "source": [
    "# View the rows with missing data\n",
    "nan_rows = electricity_df[electricity_df.isna().any(axis= 1)]\n",
    "nan_rows"
   ]
  },
  {
   "cell_type": "markdown",
   "metadata": {},
   "source": [
    "The missing data will be filled using the interpolate() function. [Geeksforgeeks.org](https://www.geeksforgeeks.org/interpolation-in-python/) describes interpolation is a method for generating points between known values. \n",
    "\n",
    "https://pandas.pydata.org/docs/reference/api/pandas.DataFrame.ffill.html\n",
    "\n",
    "Why interpolate and not ffill?"
   ]
  },
  {
   "cell_type": "code",
   "execution_count": 9,
   "metadata": {},
   "outputs": [],
   "source": [
    "# Interpolation the missing rows\n",
    "electricity_df.interpolate(method= 'linear', inplace= True)"
   ]
  },
  {
   "cell_type": "code",
   "execution_count": 10,
   "metadata": {},
   "outputs": [
    {
     "data": {
      "text/plain": [
       "'There are 11528 duplicated rows.'"
      ]
     },
     "execution_count": 10,
     "metadata": {},
     "output_type": "execute_result"
    }
   ],
   "source": [
    "f'There are {electricity_df.index.duplicated().sum()} duplicated rows.'"
   ]
  },
  {
   "cell_type": "markdown",
   "metadata": {},
   "source": [
    "All the downloaded csv files have data for the 1st Jan of the following year e.g. the [ROI_windactual_14_Eirgrid.csv](data\\electricity\\ROI_windactual_14_Eirgrid.csv) contains the data for 2014 and the 1st Jan 2015. When the data for 2015 is merged onto the dataframe it also has data for the 1st Jan 2015.\n",
    "\n",
    "https://stackoverflow.com/questions/13035764/remove-pandas-rows-with-duplicate-indices"
   ]
  },
  {
   "cell_type": "code",
   "execution_count": 11,
   "metadata": {},
   "outputs": [
    {
     "data": {
      "text/html": [
       "<div>\n",
       "<style scoped>\n",
       "    .dataframe tbody tr th:only-of-type {\n",
       "        vertical-align: middle;\n",
       "    }\n",
       "\n",
       "    .dataframe tbody tr th {\n",
       "        vertical-align: top;\n",
       "    }\n",
       "\n",
       "    .dataframe thead th {\n",
       "        text-align: right;\n",
       "    }\n",
       "</style>\n",
       "<table border=\"1\" class=\"dataframe\">\n",
       "  <thead>\n",
       "    <tr style=\"text-align: right;\">\n",
       "      <th></th>\n",
       "      <th>Wind Energy (MW)</th>\n",
       "    </tr>\n",
       "    <tr>\n",
       "      <th>date</th>\n",
       "      <th></th>\n",
       "    </tr>\n",
       "  </thead>\n",
       "  <tbody>\n",
       "    <tr>\n",
       "      <th>2014-01-01 00:00:00</th>\n",
       "      <td>1020.0</td>\n",
       "    </tr>\n",
       "    <tr>\n",
       "      <th>2014-01-01 00:15:00</th>\n",
       "      <td>995.0</td>\n",
       "    </tr>\n",
       "    <tr>\n",
       "      <th>2014-01-01 00:30:00</th>\n",
       "      <td>933.0</td>\n",
       "    </tr>\n",
       "    <tr>\n",
       "      <th>2014-01-01 00:45:00</th>\n",
       "      <td>959.0</td>\n",
       "    </tr>\n",
       "    <tr>\n",
       "      <th>2014-01-01 01:00:00</th>\n",
       "      <td>921.0</td>\n",
       "    </tr>\n",
       "  </tbody>\n",
       "</table>\n",
       "</div>"
      ],
      "text/plain": [
       "                     Wind Energy (MW)\n",
       "date                                 \n",
       "2014-01-01 00:00:00            1020.0\n",
       "2014-01-01 00:15:00             995.0\n",
       "2014-01-01 00:30:00             933.0\n",
       "2014-01-01 00:45:00             959.0\n",
       "2014-01-01 01:00:00             921.0"
      ]
     },
     "execution_count": 11,
     "metadata": {},
     "output_type": "execute_result"
    }
   ],
   "source": [
    "# Remove any duplicated rows\n",
    "electricity_df = electricity_df[~electricity_df.index.duplicated(keep= 'first')]\n",
    "electricity_df.head()"
   ]
  },
  {
   "cell_type": "code",
   "execution_count": 12,
   "metadata": {},
   "outputs": [
    {
     "data": {
      "text/plain": [
       "'There are 0 duplicated rows.'"
      ]
     },
     "execution_count": 12,
     "metadata": {},
     "output_type": "execute_result"
    }
   ],
   "source": [
    "# Check that the duplicated rows have been removed.\n",
    "f'There are {electricity_df.index.duplicated().sum()} duplicated rows.'"
   ]
  },
  {
   "cell_type": "code",
   "execution_count": 13,
   "metadata": {},
   "outputs": [],
   "source": [
    "# Write to csv file\n",
    "electricity_df.to_csv('data/electricity/clean_data/electricity_data.csv')"
   ]
  },
  {
   "cell_type": "markdown",
   "metadata": {},
   "source": [
    "The electricity data is recorded every 15 min. However, the weather data is recorded hourly therefore the electricity data will be resampled to hourly."
   ]
  },
  {
   "cell_type": "code",
   "execution_count": 14,
   "metadata": {},
   "outputs": [
    {
     "data": {
      "text/html": [
       "<div>\n",
       "<style scoped>\n",
       "    .dataframe tbody tr th:only-of-type {\n",
       "        vertical-align: middle;\n",
       "    }\n",
       "\n",
       "    .dataframe tbody tr th {\n",
       "        vertical-align: top;\n",
       "    }\n",
       "\n",
       "    .dataframe thead th {\n",
       "        text-align: right;\n",
       "    }\n",
       "</style>\n",
       "<table border=\"1\" class=\"dataframe\">\n",
       "  <thead>\n",
       "    <tr style=\"text-align: right;\">\n",
       "      <th></th>\n",
       "      <th>Wind Energy (MW)</th>\n",
       "    </tr>\n",
       "    <tr>\n",
       "      <th>date</th>\n",
       "      <th></th>\n",
       "    </tr>\n",
       "  </thead>\n",
       "  <tbody>\n",
       "    <tr>\n",
       "      <th>2014-01-01 00:00:00</th>\n",
       "      <td>976.75</td>\n",
       "    </tr>\n",
       "    <tr>\n",
       "      <th>2014-01-01 01:00:00</th>\n",
       "      <td>914.25</td>\n",
       "    </tr>\n",
       "    <tr>\n",
       "      <th>2014-01-01 02:00:00</th>\n",
       "      <td>938.50</td>\n",
       "    </tr>\n",
       "    <tr>\n",
       "      <th>2014-01-01 03:00:00</th>\n",
       "      <td>911.25</td>\n",
       "    </tr>\n",
       "    <tr>\n",
       "      <th>2014-01-01 04:00:00</th>\n",
       "      <td>915.00</td>\n",
       "    </tr>\n",
       "  </tbody>\n",
       "</table>\n",
       "</div>"
      ],
      "text/plain": [
       "                     Wind Energy (MW)\n",
       "date                                 \n",
       "2014-01-01 00:00:00            976.75\n",
       "2014-01-01 01:00:00            914.25\n",
       "2014-01-01 02:00:00            938.50\n",
       "2014-01-01 03:00:00            911.25\n",
       "2014-01-01 04:00:00            915.00"
      ]
     },
     "execution_count": 14,
     "metadata": {},
     "output_type": "execute_result"
    }
   ],
   "source": [
    "hourly_electricity_df = electricity_df.resample('h').mean()\n",
    "hourly_electricity_df.head()"
   ]
  },
  {
   "cell_type": "code",
   "execution_count": 15,
   "metadata": {},
   "outputs": [],
   "source": [
    "# Save the hourly data to a csv file\n",
    "hourly_electricity_df.to_csv('data/electricity/clean_data/hourly_electricity.csv')"
   ]
  }
 ],
 "metadata": {
  "kernelspec": {
   "display_name": "base",
   "language": "python",
   "name": "python3"
  },
  "language_info": {
   "codemirror_mode": {
    "name": "ipython",
    "version": 3
   },
   "file_extension": ".py",
   "mimetype": "text/x-python",
   "name": "python",
   "nbconvert_exporter": "python",
   "pygments_lexer": "ipython3",
   "version": "3.11.9"
  }
 },
 "nbformat": 4,
 "nbformat_minor": 2
}

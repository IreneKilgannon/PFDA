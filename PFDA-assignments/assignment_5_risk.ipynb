{
 "cells": [
  {
   "cell_type": "markdown",
   "metadata": {},
   "source": [
    "![Risk](img/Risk.png)"
   ]
  },
  {
   "cell_type": "markdown",
   "metadata": {},
   "source": [
    "## Assignment 5 Risk\n",
    "\n",
    "The program should simulate 1000 individual battle rounds in Risk (3 attackers vs 2 defender) and plot the result.\n",
    "\n",
    "For extra marks: a more complicated version that simulates a full series of rounds for armies of arbitrary sizes, until one side is wiped out.\n",
    "\n",
    "### Rules of Risk\n",
    "\n",
    "In Risk one army fights another using 6 sided dice.\n",
    "\n",
    "In each battle round, the attacker can put forward up to three of their troops (3 dice).\n",
    "\n",
    "The defender can use up to two of their defending troops (2 dice).\n",
    "\n",
    "Each side looses troops depending on the following rules:\n",
    "\n",
    "1. The two top dice dice are compared (ie the attackers top dice roll with the defenders top dice roll).\n",
    "    If the attackers dice is the same or lower they loose one troop otherwise the defender looses a troop (ie if the attackers dice is higher).\n",
    "2. The next two highest dice from each side are then compared (ie the attackers second highest to the defenders second highest).\n",
    "    If the attackers dice is the same or lower they loose one troop otherwise the defender looses a troop (ie if the attackers dice is higher).\n",
    "\n",
    "Author: Irene Kilgannon"
   ]
  },
  {
   "cell_type": "code",
   "execution_count": 1,
   "metadata": {},
   "outputs": [],
   "source": [
    "# Import modules\n",
    "import numpy as np\n",
    "import random\n",
    "import matplotlib.pyplot as plt\n",
    "import pandas as pd\n",
    "import seaborn as sns"
   ]
  },
  {
   "cell_type": "code",
   "execution_count": 2,
   "metadata": {},
   "outputs": [
    {
     "name": "stdout",
     "output_type": "stream",
     "text": [
      "The defender lost the battle.\n",
      " Attackers Losses: 940\n",
      " Defenders Losses: 1060\n"
     ]
    },
    {
     "data": {
      "image/png": "[encoded data removed]",
      "text/plain": [
       "<Figure size 640x480 with 1 Axes>"
      ]
     },
     "metadata": {},
     "output_type": "display_data"
    }
   ],
   "source": [
    "\n",
    "def roll_dice(num_dice):\n",
    "    '''A function to simulate the rolling of any number of dice and create a list of the results of the dice rolls, sorted in descending order.\n",
    "    Arguments: \n",
    "        num_dice (integer): the number of dice to roll.'''\n",
    "    \n",
    "    # Simulate the dice rolls\n",
    "    roll_results = [random.randint(1, 6) for _ in range(num_dice)]\n",
    "\n",
    "    # Return a list sorted in descending order.\n",
    "    return sorted(roll_results, reverse=True)\n",
    "\n",
    "\n",
    "def calculate_losses(attacker_dice, defender_dice):\n",
    "    '''A function to compare the dice values of the attacker and the defender for each round. To keep track of the round losses the values are added to a list.\n",
    "    Arguments: \n",
    "        attacker_dice: \n",
    "        defender_dice: \n",
    "    '''\n",
    "\n",
    "    # Counter to keep track of the losses in a round\n",
    "    round_attacker_losses = 0\n",
    "    round_defender_losses = 0\n",
    "\n",
    "    # \n",
    "    for a, d in zip(attacker_dice, defender_dice):\n",
    "        if  a <= d:\n",
    "            round_attacker_losses += 1\n",
    "        else:\n",
    "            round_defender_losses += 1\n",
    "\n",
    "    return round_attacker_losses, round_defender_losses\n",
    "\n",
    "\n",
    "def simulate_battle(num_rounds):\n",
    "    '''Simulate the a battle\n",
    "    Argument: \n",
    "        num_rounds: Integer, the number of battle rounds to simulate.'''\n",
    "\n",
    "    # Lists to keep track of the overall looser.\n",
    "    attacker_losses = 0\n",
    "    defender_losses = 0\n",
    "\n",
    "    # A list of a dictionary to keep track of the round number, dice rolls and the score for each round.\n",
    "    round_scores = []\n",
    "\n",
    "    # Play the game\n",
    "    for round in range(1, num_rounds + 1):\n",
    "        # Roll the attacker dice\n",
    "        attacker_dice = roll_dice(3)\n",
    "\n",
    "        # Roll the defender dice\n",
    "        defender_dice = roll_dice(2)\n",
    "\n",
    "        # Use calculate_losses function.\n",
    "        round_attacker_losses, round_defender_losses = calculate_losses(attacker_dice, defender_dice)\n",
    "\n",
    "        # Add \n",
    "        attacker_losses += round_attacker_losses\n",
    "        defender_losses += round_defender_losses\n",
    "        \n",
    "    \t# \n",
    "        round_scores.append({\n",
    "            'round': round,\n",
    "            'attacker_dice': attacker_dice,\n",
    "            'defender_dice': defender_dice,\n",
    "            'attacker_losses': round_attacker_losses,\n",
    "            'defender_losses': round_defender_losses})\n",
    "\n",
    "    return attacker_dice, defender_dice, attacker_losses, defender_losses, round_scores\n",
    "\n",
    "\n",
    "def plot_results(attacker_losses, defender_losses):\n",
    "    '''A function to create a bar plot of the total number of losses for the attacker and defender.'''\n",
    "\n",
    "    if attacker_losses > defender_losses:\n",
    "        print(f'The attacker lost the battle.\\n Attackers Losses: {attacker_losses}\\n Defenders Losses: {defender_losses}')\n",
    "    else:\n",
    "        print(f'The defender lost the battle.\\n Attackers Losses: {attacker_losses}\\n Defenders Losses: {defender_losses}')\n",
    "\n",
    "    y = np.array([attacker_losses, defender_losses])\n",
    "    x = np.array(['Attacker Losses', 'Defender Losses'])\n",
    "\n",
    "    plt.bar(x, y)\n",
    "\n",
    "    plt.ylabel('Count')\n",
    "    plt.title('Risk Game\\nCount of Attacker and Defender Losses')\n",
    "    plt.show()\n",
    "\n",
    "\n",
    "# https://realpython.com/python-return-statement/#returning-multiple-values\n",
    "\n",
    "attacker_dice, defender_dice, attacker_losses, defender_losses, round_scores = simulate_battle(1000)\n",
    "\n",
    "#display_results( attacker_losses, defender_losses)\n",
    "plot_results(attacker_losses, defender_losses)"
   ]
  },
  {
   "cell_type": "code",
   "execution_count": 3,
   "metadata": {},
   "outputs": [
    {
     "name": "stdout",
     "output_type": "stream",
     "text": [
      "   round attacker_dice defender_dice  attacker_losses  defender_losses\n",
      "0      1     [6, 3, 1]        [5, 1]                0                2\n",
      "1      2     [3, 2, 2]        [3, 3]                2                0\n",
      "2      3     [5, 3, 1]        [4, 3]                1                1\n",
      "3      4     [6, 5, 1]        [4, 4]                0                2\n",
      "4      5     [5, 5, 1]        [3, 2]                0                2\n"
     ]
    }
   ],
   "source": [
    "# Convert round_scores to a dataframe\n",
    "\n",
    "round_scores = pd.DataFrame(round_scores)\n",
    "print(round_scores.head())\n"
   ]
  },
  {
   "cell_type": "code",
   "execution_count": 4,
   "metadata": {},
   "outputs": [
    {
     "data": {
      "text/html": [
       "<div>\n",
       "<style scoped>\n",
       "    .dataframe tbody tr th:only-of-type {\n",
       "        vertical-align: middle;\n",
       "    }\n",
       "\n",
       "    .dataframe tbody tr th {\n",
       "        vertical-align: top;\n",
       "    }\n",
       "\n",
       "    .dataframe thead th {\n",
       "        text-align: right;\n",
       "    }\n",
       "</style>\n",
       "<table border=\"1\" class=\"dataframe\">\n",
       "  <thead>\n",
       "    <tr style=\"text-align: right;\">\n",
       "      <th></th>\n",
       "      <th>attacker_dice</th>\n",
       "      <th>defender_dice</th>\n",
       "      <th>attacker_losses</th>\n",
       "      <th>defender_losses</th>\n",
       "    </tr>\n",
       "    <tr>\n",
       "      <th>round</th>\n",
       "      <th></th>\n",
       "      <th></th>\n",
       "      <th></th>\n",
       "      <th></th>\n",
       "    </tr>\n",
       "  </thead>\n",
       "  <tbody>\n",
       "    <tr>\n",
       "      <th>1</th>\n",
       "      <td>[6, 3, 1]</td>\n",
       "      <td>[5, 1]</td>\n",
       "      <td>0</td>\n",
       "      <td>2</td>\n",
       "    </tr>\n",
       "    <tr>\n",
       "      <th>2</th>\n",
       "      <td>[3, 2, 2]</td>\n",
       "      <td>[3, 3]</td>\n",
       "      <td>2</td>\n",
       "      <td>0</td>\n",
       "    </tr>\n",
       "    <tr>\n",
       "      <th>3</th>\n",
       "      <td>[5, 3, 1]</td>\n",
       "      <td>[4, 3]</td>\n",
       "      <td>1</td>\n",
       "      <td>1</td>\n",
       "    </tr>\n",
       "    <tr>\n",
       "      <th>4</th>\n",
       "      <td>[6, 5, 1]</td>\n",
       "      <td>[4, 4]</td>\n",
       "      <td>0</td>\n",
       "      <td>2</td>\n",
       "    </tr>\n",
       "    <tr>\n",
       "      <th>5</th>\n",
       "      <td>[5, 5, 1]</td>\n",
       "      <td>[3, 2]</td>\n",
       "      <td>0</td>\n",
       "      <td>2</td>\n",
       "    </tr>\n",
       "  </tbody>\n",
       "</table>\n",
       "</div>"
      ],
      "text/plain": [
       "      attacker_dice defender_dice  attacker_losses  defender_losses\n",
       "round                                                              \n",
       "1         [6, 3, 1]        [5, 1]                0                2\n",
       "2         [3, 2, 2]        [3, 3]                2                0\n",
       "3         [5, 3, 1]        [4, 3]                1                1\n",
       "4         [6, 5, 1]        [4, 4]                0                2\n",
       "5         [5, 5, 1]        [3, 2]                0                2"
      ]
     },
     "execution_count": 4,
     "metadata": {},
     "output_type": "execute_result"
    }
   ],
   "source": [
    "round_scores = round_scores.set_index('round')\n",
    "round_scores.head()"
   ]
  },
  {
   "cell_type": "code",
   "execution_count": 5,
   "metadata": {},
   "outputs": [
    {
     "data": {
      "image/png": "[encoded data removed]",
      "text/plain": [
       "<Figure size 640x480 with 1 Axes>"
      ]
     },
     "metadata": {},
     "output_type": "display_data"
    },
    {
     "name": "stdout",
     "output_type": "stream",
     "text": [
      "attacker_losses\n",
      "0    361\n",
      "1    338\n",
      "2    301\n",
      "Name: count, dtype: int64\n"
     ]
    }
   ],
   "source": [
    "# what i want to do is do a frequency of the round wins.\n",
    "y = np.array(round_scores['attacker_losses'].value_counts())\n",
    "\n",
    "x = np.array(['Attacker 0\\nDefender 2', 'Attacker 1\\nDefender 1', 'Attacker 2\\nDefender 0'])\n",
    "\n",
    "plt.bar(x, y)\n",
    "plt.title('The Frequency of Scores')\n",
    "plt.ylabel('Count')\n",
    "plt.show()\n",
    "\n",
    "print(round_scores['attacker_losses'].value_counts())"
   ]
  },
  {
   "cell_type": "markdown",
   "metadata": {},
   "source": [
    "For extra marks: a more complicated version that simulates a full series of rounds for armies of arbitrary sizes, until one side is wiped out.\n",
    "\n",
    "any no of armies? Ask player how many armies they would like, or computer decide how many to play with. \n",
    "start with x no of armies for attacker, y for defender."
   ]
  },
  {
   "cell_type": "code",
   "execution_count": 16,
   "metadata": {},
   "outputs": [
    {
     "name": "stdout",
     "output_type": "stream",
     "text": [
      "attacker_army_size: 6\n",
      "defender_army_size: 0\n",
      "attacker losses:24\n",
      "defender losses:30\n",
      "[{'round': 1, 'attacker_dice': [5, 4, 4], 'defender_dice': [5, 2], 'attacker_losses': 1, 'defender_losses': 1, 'attacker_army_size': 29, 'defender_army_size': 29}, {'round': 2, 'attacker_dice': [5, 4, 2], 'defender_dice': [5, 1], 'attacker_losses': 2, 'defender_losses': 2, 'attacker_army_size': 28, 'defender_army_size': 28}, {'round': 3, 'attacker_dice': [3, 3, 1], 'defender_dice': [4, 2], 'attacker_losses': 3, 'defender_losses': 3, 'attacker_army_size': 27, 'defender_army_size': 27}, {'round': 4, 'attacker_dice': [4, 4, 1], 'defender_dice': [5, 5], 'attacker_losses': 5, 'defender_losses': 3, 'attacker_army_size': 25, 'defender_army_size': 27}, {'round': 5, 'attacker_dice': [5, 5, 1], 'defender_dice': [6, 4], 'attacker_losses': 6, 'defender_losses': 4, 'attacker_army_size': 24, 'defender_army_size': 26}, {'round': 6, 'attacker_dice': [5, 3, 2], 'defender_dice': [3, 2], 'attacker_losses': 6, 'defender_losses': 6, 'attacker_army_size': 24, 'defender_army_size': 24}, {'round': 7, 'attacker_dice': [6, 3, 3], 'defender_dice': [3, 1], 'attacker_losses': 6, 'defender_losses': 8, 'attacker_army_size': 24, 'defender_army_size': 22}, {'round': 8, 'attacker_dice': [4, 4, 1], 'defender_dice': [6, 2], 'attacker_losses': 7, 'defender_losses': 9, 'attacker_army_size': 23, 'defender_army_size': 21}, {'round': 9, 'attacker_dice': [6, 2, 1], 'defender_dice': [5, 3], 'attacker_losses': 8, 'defender_losses': 10, 'attacker_army_size': 22, 'defender_army_size': 20}, {'round': 10, 'attacker_dice': [5, 5, 2], 'defender_dice': [3, 2], 'attacker_losses': 8, 'defender_losses': 12, 'attacker_army_size': 22, 'defender_army_size': 18}, {'round': 11, 'attacker_dice': [4, 3, 2], 'defender_dice': [2, 2], 'attacker_losses': 8, 'defender_losses': 14, 'attacker_army_size': 22, 'defender_army_size': 16}, {'round': 12, 'attacker_dice': [6, 5, 4], 'defender_dice': [5, 3], 'attacker_losses': 8, 'defender_losses': 16, 'attacker_army_size': 22, 'defender_army_size': 14}, {'round': 13, 'attacker_dice': [6, 4, 4], 'defender_dice': [6, 2], 'attacker_losses': 9, 'defender_losses': 17, 'attacker_army_size': 21, 'defender_army_size': 13}, {'round': 14, 'attacker_dice': [4, 3, 1], 'defender_dice': [4, 3], 'attacker_losses': 11, 'defender_losses': 17, 'attacker_army_size': 19, 'defender_army_size': 13}, {'round': 15, 'attacker_dice': [4, 4, 1], 'defender_dice': [1, 1], 'attacker_losses': 11, 'defender_losses': 19, 'attacker_army_size': 19, 'defender_army_size': 11}, {'round': 16, 'attacker_dice': [5, 2, 2], 'defender_dice': [4, 2], 'attacker_losses': 12, 'defender_losses': 20, 'attacker_army_size': 18, 'defender_army_size': 10}, {'round': 17, 'attacker_dice': [4, 3, 1], 'defender_dice': [2, 1], 'attacker_losses': 12, 'defender_losses': 22, 'attacker_army_size': 18, 'defender_army_size': 8}, {'round': 18, 'attacker_dice': [5, 5, 4], 'defender_dice': [6, 2], 'attacker_losses': 13, 'defender_losses': 23, 'attacker_army_size': 17, 'defender_army_size': 7}, {'round': 19, 'attacker_dice': [4, 4, 4], 'defender_dice': [6, 4], 'attacker_losses': 15, 'defender_losses': 23, 'attacker_army_size': 15, 'defender_army_size': 7}, {'round': 20, 'attacker_dice': [4, 2, 1], 'defender_dice': [4, 2], 'attacker_losses': 17, 'defender_losses': 23, 'attacker_army_size': 13, 'defender_army_size': 7}, {'round': 21, 'attacker_dice': [4, 4, 3], 'defender_dice': [4, 2], 'attacker_losses': 18, 'defender_losses': 24, 'attacker_army_size': 12, 'defender_army_size': 6}, {'round': 22, 'attacker_dice': [6, 4, 2], 'defender_dice': [5, 2], 'attacker_losses': 18, 'defender_losses': 26, 'attacker_army_size': 12, 'defender_army_size': 4}, {'round': 23, 'attacker_dice': [4, 3, 1], 'defender_dice': [3, 2], 'attacker_losses': 18, 'defender_losses': 28, 'attacker_army_size': 12, 'defender_army_size': 2}, {'round': 24, 'attacker_dice': [2, 1, 1], 'defender_dice': [3, 2], 'attacker_losses': 20, 'defender_losses': 28, 'attacker_army_size': 10, 'defender_army_size': 2}, {'round': 25, 'attacker_dice': [5, 3, 2], 'defender_dice': [3, 3], 'attacker_losses': 21, 'defender_losses': 29, 'attacker_army_size': 9, 'defender_army_size': 1}, {'round': 26, 'attacker_dice': [4, 3, 3], 'defender_dice': [5, 5], 'attacker_losses': 23, 'defender_losses': 29, 'attacker_army_size': 7, 'defender_army_size': 1}, {'round': 27, 'attacker_dice': [5, 3, 2], 'defender_dice': [6, 2], 'attacker_losses': 24, 'defender_losses': 30, 'attacker_army_size': 6, 'defender_army_size': 0}]\n",
      "   round attacker_dice defender_dice  attacker_losses  defender_losses  \\\n",
      "0      1     [5, 4, 4]        [5, 2]                1                1   \n",
      "1      2     [5, 4, 2]        [5, 1]                2                2   \n",
      "2      3     [3, 3, 1]        [4, 2]                3                3   \n",
      "3      4     [4, 4, 1]        [5, 5]                5                3   \n",
      "4      5     [5, 5, 1]        [6, 4]                6                4   \n",
      "\n",
      "   attacker_army_size  defender_army_size  \n",
      "0                  29                  29  \n",
      "1                  28                  28  \n",
      "2                  27                  27  \n",
      "3                  25                  27  \n",
      "4                  24                  26  \n"
     ]
    },
    {
     "data": {
      "image/png": "[encoded data removed]",
      "text/plain": [
       "<Figure size 640x480 with 1 Axes>"
      ]
     },
     "metadata": {},
     "output_type": "display_data"
    }
   ],
   "source": [
    "# Very very basic version with an army size initialised at start of battle. \n",
    "round_attacker_losses = 0\n",
    "round_defender_losses = 0\n",
    "    \n",
    "attacker_army_size = 30\n",
    "defender_army_size = 30\n",
    "\n",
    "\n",
    "attacker_losses = 0\n",
    "defender_losses = 0\n",
    "\n",
    "round_scores = []\n",
    "\n",
    "for round in range(1, 1000):\n",
    "    # Roll the attacker dice\n",
    "    attacker_dice = roll_dice(3)\n",
    "    # Roll the defender dice\n",
    "    defender_dice = roll_dice(2)\n",
    "    # Calculate the losses.\n",
    "    for a, d in zip(attacker_dice, defender_dice):\n",
    "        if  a <= d:\n",
    "            round_attacker_losses += 1\n",
    "            attacker_army_size -=1\n",
    "        else:\n",
    "            round_defender_losses += 1\n",
    "            defender_army_size -= 1\n",
    "\n",
    "    attacker_losses += round_attacker_losses\n",
    "    defender_losses += round_defender_losses\n",
    "        \n",
    "    #\n",
    "    round_scores.append({\n",
    "        'round': round,\n",
    "        'attacker_dice': attacker_dice,\n",
    "        'defender_dice': defender_dice,\n",
    "        'attacker_losses': round_attacker_losses,\n",
    "        'defender_losses': round_defender_losses,\n",
    "        'attacker_army_size': attacker_army_size,\n",
    "        'defender_army_size':defender_army_size})\n",
    "    \n",
    "    if attacker_army_size == 0 or defender_army_size == 0:\n",
    "        break\n",
    "\n",
    "print(f'attacker_army_size: {attacker_army_size}')\n",
    "\n",
    "print(f'defender_army_size: {defender_army_size}')\n",
    "\n",
    "print(f'attacker losses:{round_attacker_losses}')\n",
    "\n",
    "print(f'defender losses:{round_defender_losses}')\n",
    "\n",
    "print(round_scores)\n",
    "\n",
    "# Plot the army size as the rounds progress.\n",
    "round_scores = pd.DataFrame(round_scores)\n",
    "print(round_scores.head())\n",
    "\n",
    "plt.plot(round_scores['round'], round_scores['attacker_army_size'], color = 'r')\n",
    "plt.plot(round_scores['round'], round_scores['defender_army_size'])\n",
    "plt.show()"
   ]
  },
  {
   "cell_type": "markdown",
   "metadata": {},
   "source": [
    "__References__\n",
    "\n",
    "\n",
    "\n",
    "\n",
    "\n",
    " https://numpy.org/doc/stable/reference/random/generated/numpy.random.randint.html\n",
    "\n",
    " Sort vs sorted https://www.w3schools.com/python/numpy/numpy_array_sort.asp Sort returns a copy leaving the original untouched.\n",
    " \n",
    " https://stackoverflow.com/questions/26984414/efficiently-sorting-a-numpy-array-in-descending-order"
   ]
  }
 ],
 "metadata": {
  "kernelspec": {
   "display_name": "Python 3",
   "language": "python",
   "name": "python3"
  },
  "language_info": {
   "codemirror_mode": {
    "name": "ipython",
    "version": 3
   },
   "file_extension": ".py",
   "mimetype": "text/x-python",
   "name": "python",
   "nbconvert_exporter": "python",
   "pygments_lexer": "ipython3",
   "version": "3.12.1"
  }
 },
 "nbformat": 4,
 "nbformat_minor": 2
}

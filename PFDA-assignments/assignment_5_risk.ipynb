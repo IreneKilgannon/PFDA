{
 "cells": [
  {
   "cell_type": "markdown",
   "metadata": {},
   "source": [
    "![Risk](data/Risk.png)"
   ]
  },
  {
   "cell_type": "markdown",
   "metadata": {},
   "source": [
    "Author: Irene Kilgannon\n",
    "\n",
    "## Assignment Brief\n",
    "\n",
    "The program should simulate 1000 individual battle rounds in Risk (3 attackers vs 2 defender) and plot the result.\n",
    "\n",
    "For extra marks: a more complicated version that simulates a full series of rounds for armies of arbitrary sizes, until one side is wiped out.\n",
    "\n",
    "### Rules of Risk\n",
    "\n",
    "In Risk one army fights another using 6 sided dice.\n",
    "\n",
    "In each battle round, the attacker can put forward up to three of their troops (3 dice).\n",
    "\n",
    "The defender can use up to two of their defending troops (2 dice).\n",
    "\n",
    "Each side looses troops depending on the following rules:\n",
    "\n",
    "1. The two top dice dice are compared (ie the attackers top dice roll with the defenders top dice roll).\n",
    "    If the attackers dice is the same or lower they loose one troop otherwise the defender looses a troop (ie if the attackers dice is higher).\n",
    "2. The next two highest dice from each side are then compared (ie the attackers second highest to the defenders second highest).\n",
    "    If the attackers dice is the same or lower they loose one troop otherwise the defender looses a troop (ie if the attackers dice is higher)."
   ]
  },
  {
   "cell_type": "code",
   "execution_count": 9,
   "metadata": {},
   "outputs": [],
   "source": [
    "# Import modules\n",
    "import numpy as np\n",
    "import random\n",
    "import matplotlib.pyplot as plt\n",
    "import pandas as pd\n",
    "import seaborn as sns"
   ]
  },
  {
   "cell_type": "code",
   "execution_count": null,
   "metadata": {},
   "outputs": [
    {
     "name": "stdout",
     "output_type": "stream",
     "text": [
      "The defender lost the battle.\n",
      " Attackers Losses: 883\n",
      " Defenders Losses: 1117\n"
     ]
    },
    {
     "data": {
      "image/png": "[encoded data removed]",
      "text/plain": [
       "<Figure size 640x480 with 1 Axes>"
      ]
     },
     "metadata": {},
     "output_type": "display_data"
    }
   ],
   "source": [
    "\n",
    "def roll_dice(num_dice):\n",
    "    '''A function to simulate the rolling of any number of dice and create a list of the results of the dice rolls, sorted in descending order.\n",
    "    Arguments: \n",
    "        num_dice (integer): the number of dice to roll.'''\n",
    "    \n",
    "    # Simulate the dice rolls\n",
    "    roll_results = [random.randint(1, 6) for _ in range(num_dice)]\n",
    "\n",
    "    # Return a list sorted in descending order.\n",
    "    return sorted(roll_results, reverse=True)\n",
    "\n",
    "\n",
    "def calculate_losses(attacker_dice, defender_dice):\n",
    "    '''A function to compare the dice values of the attacker and the defender for each round. To keep track of the round losses the values are added to a list.\n",
    "    Arguments: \n",
    "        attacker_dice: \n",
    "        defender_dice: \n",
    "    '''\n",
    "\n",
    "    # Counter to keep track of the losses in a round\n",
    "    round_attacker_losses = 0\n",
    "    round_defender_losses = 0\n",
    "\n",
    "    # \n",
    "    for a, d in zip(attacker_dice, defender_dice):\n",
    "        if  a <= d:\n",
    "            round_attacker_losses += 1\n",
    "        else:\n",
    "            round_defender_losses += 1\n",
    "\n",
    "    return round_attacker_losses, round_defender_losses\n",
    "\n",
    "\n",
    "def simulate_battle(num_rounds):\n",
    "    '''Simulate the a battle\n",
    "    Argument: \n",
    "        num_rounds: Integer, the number of battle rounds to simulate.'''\n",
    "\n",
    "    # Lists to keep track of the overall looser.\n",
    "    attacker_losses = 0\n",
    "    defender_losses = 0\n",
    "\n",
    "    # A list of a dictionary to keep track of the round number, dice rolls and the score for each round.\n",
    "    round_scores = []\n",
    "\n",
    "    # Play the game\n",
    "    for round in range(1, num_rounds + 1):\n",
    "        # Roll the attacker dice\n",
    "        attacker_dice = roll_dice(3)\n",
    "\n",
    "        # Roll the defender dice\n",
    "        defender_dice = roll_dice(2)\n",
    "\n",
    "        # Use calculate_losses function.\n",
    "        round_attacker_losses, round_defender_losses = calculate_losses(attacker_dice, defender_dice)\n",
    "\n",
    "        # Add \n",
    "        attacker_losses += round_attacker_losses\n",
    "        defender_losses += round_defender_losses\n",
    "        \n",
    "    \t# \n",
    "        round_scores.append({\n",
    "            'round': round,\n",
    "            'attacker_dice': attacker_dice,\n",
    "            'defender_dice': defender_dice,\n",
    "            'attacker_losses': round_attacker_losses,\n",
    "            'defender_losses': round_defender_losses})\n",
    "\n",
    "    return attacker_dice, defender_dice, attacker_losses, defender_losses, round_scores\n",
    "\n",
    "\n",
    "def plot_results(attacker_losses, defender_losses):\n",
    "    '''A function to create a bar plot of the total number of losses for the attacker and defender.'''\n",
    "\n",
    "    if attacker_losses > defender_losses:\n",
    "        print(f'The attacker lost the battle.\\n Attackers Losses: {attacker_losses}\\n Defenders Losses: {defender_losses}')\n",
    "    else:\n",
    "        print(f'The defender lost the battle.\\n Attackers Losses: {attacker_losses}\\n Defenders Losses: {defender_losses}')\n",
    "\n",
    "    y = np.array([attacker_losses, defender_losses])\n",
    "    x = np.array(['Attacker Losses', 'Defender Losses'])\n",
    "\n",
    "    plt.bar(x, y)\n",
    "\n",
    "    plt.ylabel('Count')\n",
    "    plt.title('Risk Game\\nCount of Attacker and Defender Losses')\n",
    "    plt.show()\n",
    "\n",
    "\n",
    "# https://realpython.com/python-return-statement/#returning-multiple-values\n",
    "\n",
    "attacker_dice, defender_dice, attacker_losses, defender_losses, round_scores = simulate_battle(1000)\n",
    "\n",
    "#display_results( attacker_losses, defender_losses)\n",
    "plot_results(attacker_losses, defender_losses)"
   ]
  },
  {
   "cell_type": "code",
   "execution_count": 6,
   "metadata": {},
   "outputs": [
    {
     "name": "stdout",
     "output_type": "stream",
     "text": [
      "   round attacker_dice defender_dice  attacker_losses  defender_losses\n",
      "0      1     [4, 2, 1]        [5, 5]                2                0\n",
      "1      2     [6, 4, 1]        [6, 3]                1                1\n",
      "2      3     [4, 3, 1]        [4, 3]                2                0\n",
      "3      4     [4, 4, 4]        [6, 5]                2                0\n",
      "4      5     [5, 2, 1]        [6, 2]                2                0\n"
     ]
    }
   ],
   "source": [
    "# Convert round_scores to a dataframe\n",
    "\n",
    "round_scores = pd.DataFrame(round_scores)\n",
    "print(round_scores.head())\n"
   ]
  },
  {
   "cell_type": "code",
   "execution_count": 7,
   "metadata": {},
   "outputs": [
    {
     "data": {
      "text/html": [
       "<div>\n",
       "<style scoped>\n",
       "    .dataframe tbody tr th:only-of-type {\n",
       "        vertical-align: middle;\n",
       "    }\n",
       "\n",
       "    .dataframe tbody tr th {\n",
       "        vertical-align: top;\n",
       "    }\n",
       "\n",
       "    .dataframe thead th {\n",
       "        text-align: right;\n",
       "    }\n",
       "</style>\n",
       "<table border=\"1\" class=\"dataframe\">\n",
       "  <thead>\n",
       "    <tr style=\"text-align: right;\">\n",
       "      <th></th>\n",
       "      <th>attacker_dice</th>\n",
       "      <th>defender_dice</th>\n",
       "      <th>attacker_losses</th>\n",
       "      <th>defender_losses</th>\n",
       "    </tr>\n",
       "    <tr>\n",
       "      <th>round</th>\n",
       "      <th></th>\n",
       "      <th></th>\n",
       "      <th></th>\n",
       "      <th></th>\n",
       "    </tr>\n",
       "  </thead>\n",
       "  <tbody>\n",
       "    <tr>\n",
       "      <th>1</th>\n",
       "      <td>[4, 2, 1]</td>\n",
       "      <td>[5, 5]</td>\n",
       "      <td>2</td>\n",
       "      <td>0</td>\n",
       "    </tr>\n",
       "    <tr>\n",
       "      <th>2</th>\n",
       "      <td>[6, 4, 1]</td>\n",
       "      <td>[6, 3]</td>\n",
       "      <td>1</td>\n",
       "      <td>1</td>\n",
       "    </tr>\n",
       "    <tr>\n",
       "      <th>3</th>\n",
       "      <td>[4, 3, 1]</td>\n",
       "      <td>[4, 3]</td>\n",
       "      <td>2</td>\n",
       "      <td>0</td>\n",
       "    </tr>\n",
       "    <tr>\n",
       "      <th>4</th>\n",
       "      <td>[4, 4, 4]</td>\n",
       "      <td>[6, 5]</td>\n",
       "      <td>2</td>\n",
       "      <td>0</td>\n",
       "    </tr>\n",
       "    <tr>\n",
       "      <th>5</th>\n",
       "      <td>[5, 2, 1]</td>\n",
       "      <td>[6, 2]</td>\n",
       "      <td>2</td>\n",
       "      <td>0</td>\n",
       "    </tr>\n",
       "  </tbody>\n",
       "</table>\n",
       "</div>"
      ],
      "text/plain": [
       "      attacker_dice defender_dice  attacker_losses  defender_losses\n",
       "round                                                              \n",
       "1         [4, 2, 1]        [5, 5]                2                0\n",
       "2         [6, 4, 1]        [6, 3]                1                1\n",
       "3         [4, 3, 1]        [4, 3]                2                0\n",
       "4         [4, 4, 4]        [6, 5]                2                0\n",
       "5         [5, 2, 1]        [6, 2]                2                0"
      ]
     },
     "execution_count": 7,
     "metadata": {},
     "output_type": "execute_result"
    }
   ],
   "source": [
    "round_scores = round_scores.set_index('round')\n",
    "round_scores.head()"
   ]
  },
  {
   "cell_type": "code",
   "execution_count": 8,
   "metadata": {},
   "outputs": [
    {
     "data": {
      "image/png": "[encoded data removed]",
      "text/plain": [
       "<Figure size 640x480 with 1 Axes>"
      ]
     },
     "metadata": {},
     "output_type": "display_data"
    },
    {
     "name": "stdout",
     "output_type": "stream",
     "text": [
      "attacker_losses\n",
      "0    399\n",
      "1    319\n",
      "2    282\n",
      "Name: count, dtype: int64\n"
     ]
    }
   ],
   "source": [
    "# what i want to do is do a frequency of the round wins.\n",
    "y = np.array(round_scores['attacker_losses'].value_counts())\n",
    "\n",
    "x = np.array(['attacker 0\\n defender 2', 'attacker 1\\n defender 1', 'attacker 2\\n defender 0'])\n",
    "\n",
    "plt.bar(x, y)\n",
    "plt.show()\n",
    "\n",
    "print(round_scores['attacker_losses'].value_counts())"
   ]
  },
  {
   "cell_type": "markdown",
   "metadata": {},
   "source": [
    "For extra marks: a more complicated version that simulates a full series of rounds for armies of arbitrary sizes, until one side is wiped out.\n",
    "\n",
    "any no of armies? Ask player how many armies they would like, or computer decide how many to play with. \n",
    "start with x no of armies for attacker, y for defender."
   ]
  },
  {
   "cell_type": "markdown",
   "metadata": {},
   "source": [
    "__References__\n",
    "\n",
    "\n",
    "\n",
    "\n",
    "\n",
    " https://numpy.org/doc/stable/reference/random/generated/numpy.random.randint.html\n",
    "\n",
    " Sort vs sorted https://www.w3schools.com/python/numpy/numpy_array_sort.asp Sort returns a copy leaving the original untouched.\n",
    " \n",
    " https://stackoverflow.com/questions/26984414/efficiently-sorting-a-numpy-array-in-descending-order"
   ]
  }
 ],
 "metadata": {
  "kernelspec": {
   "display_name": "base",
   "language": "python",
   "name": "python3"
  },
  "language_info": {
   "codemirror_mode": {
    "name": "ipython",
    "version": 3
   },
   "file_extension": ".py",
   "mimetype": "text/x-python",
   "name": "python",
   "nbconvert_exporter": "python",
   "pygments_lexer": "ipython3",
   "version": "3.11.9"
  }
 },
 "nbformat": 4,
 "nbformat_minor": 2
}

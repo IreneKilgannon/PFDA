{
 "cells": [
  {
   "cell_type": "markdown",
   "metadata": {},
   "source": [
    "# Assignment 2: Weather"
   ]
  },
  {
   "cell_type": "markdown",
   "metadata": {},
   "source": [
    "Task: Create a jupyter notebook with a plot of the dryBulbTemperature_Celsius over time."
   ]
  },
  {
   "cell_type": "code",
   "execution_count": 3,
   "metadata": {},
   "outputs": [],
   "source": [
    "import pandas as pd\n",
    "import matplotlib.pyplot as plt\n",
    "import matplotlib.dates as mdates\n",
    "import seaborn as sns\n",
    "from matplotlib.dates import DateFormatter\n",
    "import datetime as dt"
   ]
  },
  {
   "cell_type": "code",
   "execution_count": 4,
   "metadata": {},
   "outputs": [],
   "source": [
    "# Read in the csv file, parsing all the columns with dates and times as the datetime datatype.\n",
    "# Set the index column to access datetime functionality.\n",
    "df = pd.read_csv(\"data\\weatherreadings1.csv\", \n",
    "                 parse_dates = ['reportStartDateTime', 'reportEndDateTime', 'localReportEndDateTime', 'createdDateTime'],\n",
    "                 index_col=['reportStartDateTime'])"
   ]
  },
  {
   "cell_type": "code",
   "execution_count": 5,
   "metadata": {},
   "outputs": [
    {
     "data": {
      "text/html": [
       "<div>\n",
       "<style scoped>\n",
       "    .dataframe tbody tr th:only-of-type {\n",
       "        vertical-align: middle;\n",
       "    }\n",
       "\n",
       "    .dataframe tbody tr th {\n",
       "        vertical-align: top;\n",
       "    }\n",
       "\n",
       "    .dataframe thead th {\n",
       "        text-align: right;\n",
       "    }\n",
       "</style>\n",
       "<table border=\"1\" class=\"dataframe\">\n",
       "  <thead>\n",
       "    <tr style=\"text-align: right;\">\n",
       "      <th></th>\n",
       "      <th>siteId</th>\n",
       "      <th>reportEndDateTime</th>\n",
       "      <th>collectionName</th>\n",
       "      <th>isPublic</th>\n",
       "      <th>isLatestVersion</th>\n",
       "      <th>observationType</th>\n",
       "      <th>softwareType</th>\n",
       "      <th>windDirection</th>\n",
       "      <th>relativeHumidity</th>\n",
       "      <th>windSpeed_MilePerHour</th>\n",
       "      <th>...</th>\n",
       "      <th>isDcnn</th>\n",
       "      <th>longitude</th>\n",
       "      <th>latitude</th>\n",
       "      <th>height</th>\n",
       "      <th>id</th>\n",
       "      <th>localReportEndDateTime</th>\n",
       "      <th>externalSiteId</th>\n",
       "      <th>createdDateTime</th>\n",
       "      <th>version</th>\n",
       "      <th>externalId</th>\n",
       "    </tr>\n",
       "    <tr>\n",
       "      <th>reportStartDateTime</th>\n",
       "      <th></th>\n",
       "      <th></th>\n",
       "      <th></th>\n",
       "      <th></th>\n",
       "      <th></th>\n",
       "      <th></th>\n",
       "      <th></th>\n",
       "      <th></th>\n",
       "      <th></th>\n",
       "      <th></th>\n",
       "      <th></th>\n",
       "      <th></th>\n",
       "      <th></th>\n",
       "      <th></th>\n",
       "      <th></th>\n",
       "      <th></th>\n",
       "      <th></th>\n",
       "      <th></th>\n",
       "      <th></th>\n",
       "      <th></th>\n",
       "      <th></th>\n",
       "    </tr>\n",
       "  </thead>\n",
       "  <tbody>\n",
       "    <tr>\n",
       "      <th>2024-10-02 16:15:00+00:00</th>\n",
       "      <td>f2d42aea-f516-ec11-b76a-0003ff599499</td>\n",
       "      <td>2024-10-02 16:15:00+00:00</td>\n",
       "      <td>1</td>\n",
       "      <td>True</td>\n",
       "      <td>True</td>\n",
       "      <td>1</td>\n",
       "      <td>WeatherLink</td>\n",
       "      <td>322</td>\n",
       "      <td>70.4</td>\n",
       "      <td>3.06</td>\n",
       "      <td>...</td>\n",
       "      <td>False</td>\n",
       "      <td>-8.8545</td>\n",
       "      <td>53.5244</td>\n",
       "      <td>45</td>\n",
       "      <td>20241002oarq1xwy5re69kyhyyguw31uhh</td>\n",
       "      <td>2024-10-02 16:15:00+00:00</td>\n",
       "      <td>1000013318</td>\n",
       "      <td>2024-10-02 16:15:28.567111900+00:00</td>\n",
       "      <td>1</td>\n",
       "      <td>12577570561</td>\n",
       "    </tr>\n",
       "    <tr>\n",
       "      <th>2024-10-02 16:45:00+00:00</th>\n",
       "      <td>f2d42aea-f516-ec11-b76a-0003ff599499</td>\n",
       "      <td>2024-10-02 16:45:00+00:00</td>\n",
       "      <td>1</td>\n",
       "      <td>True</td>\n",
       "      <td>True</td>\n",
       "      <td>1</td>\n",
       "      <td>WeatherLink</td>\n",
       "      <td>327</td>\n",
       "      <td>72.4</td>\n",
       "      <td>2.81</td>\n",
       "      <td>...</td>\n",
       "      <td>False</td>\n",
       "      <td>-8.8545</td>\n",
       "      <td>53.5244</td>\n",
       "      <td>45</td>\n",
       "      <td>20241002zafpyewy5we69kyhyytrtenn4a</td>\n",
       "      <td>2024-10-02 16:45:00+00:00</td>\n",
       "      <td>1000013318</td>\n",
       "      <td>2024-10-02 16:45:40.425161600+00:00</td>\n",
       "      <td>1</td>\n",
       "      <td>12577595550</td>\n",
       "    </tr>\n",
       "    <tr>\n",
       "      <th>2024-10-02 17:00:00+00:00</th>\n",
       "      <td>f2d42aea-f516-ec11-b76a-0003ff599499</td>\n",
       "      <td>2024-10-02 17:00:00+00:00</td>\n",
       "      <td>1</td>\n",
       "      <td>True</td>\n",
       "      <td>True</td>\n",
       "      <td>1</td>\n",
       "      <td>WeatherLink</td>\n",
       "      <td>27</td>\n",
       "      <td>73.4</td>\n",
       "      <td>2.56</td>\n",
       "      <td>...</td>\n",
       "      <td>False</td>\n",
       "      <td>-8.8545</td>\n",
       "      <td>53.5244</td>\n",
       "      <td>45</td>\n",
       "      <td>202410027k7rmycy5he69kyhyytrtenn4a</td>\n",
       "      <td>2024-10-02 17:00:00+00:00</td>\n",
       "      <td>1000013318</td>\n",
       "      <td>2024-10-02 17:01:12.337640500+00:00</td>\n",
       "      <td>1</td>\n",
       "      <td>12577608947</td>\n",
       "    </tr>\n",
       "  </tbody>\n",
       "</table>\n",
       "<p>3 rows × 34 columns</p>\n",
       "</div>"
      ],
      "text/plain": [
       "                                                         siteId  \\\n",
       "reportStartDateTime                                               \n",
       "2024-10-02 16:15:00+00:00  f2d42aea-f516-ec11-b76a-0003ff599499   \n",
       "2024-10-02 16:45:00+00:00  f2d42aea-f516-ec11-b76a-0003ff599499   \n",
       "2024-10-02 17:00:00+00:00  f2d42aea-f516-ec11-b76a-0003ff599499   \n",
       "\n",
       "                                  reportEndDateTime  collectionName  isPublic  \\\n",
       "reportStartDateTime                                                             \n",
       "2024-10-02 16:15:00+00:00 2024-10-02 16:15:00+00:00               1      True   \n",
       "2024-10-02 16:45:00+00:00 2024-10-02 16:45:00+00:00               1      True   \n",
       "2024-10-02 17:00:00+00:00 2024-10-02 17:00:00+00:00               1      True   \n",
       "\n",
       "                           isLatestVersion  observationType softwareType  \\\n",
       "reportStartDateTime                                                        \n",
       "2024-10-02 16:15:00+00:00             True                1  WeatherLink   \n",
       "2024-10-02 16:45:00+00:00             True                1  WeatherLink   \n",
       "2024-10-02 17:00:00+00:00             True                1  WeatherLink   \n",
       "\n",
       "                           windDirection  relativeHumidity  \\\n",
       "reportStartDateTime                                          \n",
       "2024-10-02 16:15:00+00:00            322              70.4   \n",
       "2024-10-02 16:45:00+00:00            327              72.4   \n",
       "2024-10-02 17:00:00+00:00             27              73.4   \n",
       "\n",
       "                           windSpeed_MilePerHour  ...  isDcnn  longitude  \\\n",
       "reportStartDateTime                               ...                      \n",
       "2024-10-02 16:15:00+00:00                   3.06  ...   False    -8.8545   \n",
       "2024-10-02 16:45:00+00:00                   2.81  ...   False    -8.8545   \n",
       "2024-10-02 17:00:00+00:00                   2.56  ...   False    -8.8545   \n",
       "\n",
       "                           latitude  height  \\\n",
       "reportStartDateTime                           \n",
       "2024-10-02 16:15:00+00:00   53.5244      45   \n",
       "2024-10-02 16:45:00+00:00   53.5244      45   \n",
       "2024-10-02 17:00:00+00:00   53.5244      45   \n",
       "\n",
       "                                                           id  \\\n",
       "reportStartDateTime                                             \n",
       "2024-10-02 16:15:00+00:00  20241002oarq1xwy5re69kyhyyguw31uhh   \n",
       "2024-10-02 16:45:00+00:00  20241002zafpyewy5we69kyhyytrtenn4a   \n",
       "2024-10-02 17:00:00+00:00  202410027k7rmycy5he69kyhyytrtenn4a   \n",
       "\n",
       "                             localReportEndDateTime  externalSiteId  \\\n",
       "reportStartDateTime                                                   \n",
       "2024-10-02 16:15:00+00:00 2024-10-02 16:15:00+00:00      1000013318   \n",
       "2024-10-02 16:45:00+00:00 2024-10-02 16:45:00+00:00      1000013318   \n",
       "2024-10-02 17:00:00+00:00 2024-10-02 17:00:00+00:00      1000013318   \n",
       "\n",
       "                                              createdDateTime  version  \\\n",
       "reportStartDateTime                                                      \n",
       "2024-10-02 16:15:00+00:00 2024-10-02 16:15:28.567111900+00:00        1   \n",
       "2024-10-02 16:45:00+00:00 2024-10-02 16:45:40.425161600+00:00        1   \n",
       "2024-10-02 17:00:00+00:00 2024-10-02 17:01:12.337640500+00:00        1   \n",
       "\n",
       "                            externalId  \n",
       "reportStartDateTime                     \n",
       "2024-10-02 16:15:00+00:00  12577570561  \n",
       "2024-10-02 16:45:00+00:00  12577595550  \n",
       "2024-10-02 17:00:00+00:00  12577608947  \n",
       "\n",
       "[3 rows x 34 columns]"
      ]
     },
     "execution_count": 5,
     "metadata": {},
     "output_type": "execute_result"
    }
   ],
   "source": [
    "# Explore the dataset\n",
    "df.head(3)"
   ]
  },
  {
   "cell_type": "code",
   "execution_count": 6,
   "metadata": {},
   "outputs": [
    {
     "name": "stdout",
     "output_type": "stream",
     "text": [
      "<class 'pandas.core.frame.DataFrame'>\n",
      "DatetimeIndex: 89 entries, 2024-10-02 16:15:00+00:00 to 2024-10-03 15:00:00+00:00\n",
      "Data columns (total 34 columns):\n",
      " #   Column                          Non-Null Count  Dtype              \n",
      "---  ------                          --------------  -----              \n",
      " 0   siteId                          89 non-null     object             \n",
      " 1   reportEndDateTime               89 non-null     datetime64[ns, UTC]\n",
      " 2   collectionName                  89 non-null     int64              \n",
      " 3   isPublic                        89 non-null     bool               \n",
      " 4   isLatestVersion                 89 non-null     bool               \n",
      " 5   observationType                 89 non-null     int64              \n",
      " 6   softwareType                    89 non-null     object             \n",
      " 7   windDirection                   89 non-null     int64              \n",
      " 8   relativeHumidity                89 non-null     float64            \n",
      " 9   windSpeed_MilePerHour           89 non-null     float64            \n",
      " 10  windSpeed_MetrePerSecond        89 non-null     float64            \n",
      " 11  dryBulbTemperature_Fahrenheit   89 non-null     float64            \n",
      " 12  dryBulbTemperature_Celsius      89 non-null     float64            \n",
      " 13  wetBulbTemperature_Fahrenheit   89 non-null     float64            \n",
      " 14  wetBulbTemperature_Celsius      89 non-null     float64            \n",
      " 15  rainfallAmount_Inch             89 non-null     int64              \n",
      " 16  rainfallAmount_Millimetre       89 non-null     int64              \n",
      " 17  rainfallRate_InchPerHour        89 non-null     int64              \n",
      " 18  rainfallRate_MillimetrePerHour  89 non-null     int64              \n",
      " 19  airPressure_InchOfMercury       89 non-null     float64            \n",
      " 20  airPressure_Hectopascal         89 non-null     float64            \n",
      " 21  dewPointTemperature_Fahrenheit  89 non-null     float64            \n",
      " 22  dewPointTemperature_Celsius     89 non-null     float64            \n",
      " 23  isOfficial                      89 non-null     bool               \n",
      " 24  isDcnn                          89 non-null     bool               \n",
      " 25  longitude                       89 non-null     float64            \n",
      " 26  latitude                        89 non-null     float64            \n",
      " 27  height                          89 non-null     int64              \n",
      " 28  id                              89 non-null     object             \n",
      " 29  localReportEndDateTime          89 non-null     datetime64[ns, UTC]\n",
      " 30  externalSiteId                  89 non-null     int64              \n",
      " 31  createdDateTime                 89 non-null     datetime64[ns, UTC]\n",
      " 32  version                         89 non-null     int64              \n",
      " 33  externalId                      89 non-null     int64              \n",
      "dtypes: bool(4), datetime64[ns, UTC](3), float64(13), int64(11), object(3)\n",
      "memory usage: 21.9+ KB\n"
     ]
    }
   ],
   "source": [
    "df.info()"
   ]
  },
  {
   "cell_type": "code",
   "execution_count": 7,
   "metadata": {},
   "outputs": [
    {
     "data": {
      "text/plain": [
       "min     9.166667\n",
       "max    15.944444\n",
       "Name: dryBulbTemperature_Celsius, dtype: float64"
      ]
     },
     "execution_count": 7,
     "metadata": {},
     "output_type": "execute_result"
    }
   ],
   "source": [
    "df['dryBulbTemperature_Celsius'].agg(['min', 'max'])"
   ]
  },
  {
   "cell_type": "markdown",
   "metadata": {},
   "source": [
    "The csv file contains weather data from the Athenry station from 4.15 pm on the 2nd of October to 3pm on the 3rd October 2024.\n",
    "\n",
    "what columns are needed? report start and end time are the same. "
   ]
  },
  {
   "cell_type": "code",
   "execution_count": 8,
   "metadata": {},
   "outputs": [
    {
     "data": {
      "image/png": "[encoded data removed]",
      "text/plain": [
       "<Figure size 640x480 with 1 Axes>"
      ]
     },
     "metadata": {},
     "output_type": "display_data"
    }
   ],
   "source": [
    "fig, ax = plt.subplots()\n",
    "\n",
    "plt.plot(df.index, df['dryBulbTemperature_Celsius'])\n",
    "\n",
    "ax.set(xlabel='Time',\n",
    "       ylabel = 'Temperature (Celsius)',\n",
    "       title = 'Temperature in Athenry Weather Station')\n",
    "\n",
    "\n",
    "ax.tick_params(axis='x', which='minor', bottom=True)\n",
    "\n",
    "# Minor ticks every 3 hours with the format of Hour:Minute\n",
    "ax.xaxis.set_minor_locator(mdates.HourLocator(interval=3)) \n",
    "ax.xaxis.set_minor_formatter(mdates.DateFormatter('%H:%M'))\n",
    "\n",
    "# Major ticks on a new date\n",
    "ax.xaxis.set_major_formatter(mdates.DateFormatter('\\n%d %b'))\n",
    "ax.xaxis.set_major_locator(mdates.DayLocator(interval = 1))\n",
    "\n",
    "plt.show()"
   ]
  },
  {
   "cell_type": "code",
   "execution_count": 18,
   "metadata": {},
   "outputs": [
    {
     "data": {
      "text/plain": [
       "['Solarize_Light2',\n",
       " '_classic_test_patch',\n",
       " '_mpl-gallery',\n",
       " '_mpl-gallery-nogrid',\n",
       " 'bmh',\n",
       " 'classic',\n",
       " 'dark_background',\n",
       " 'fast',\n",
       " 'fivethirtyeight',\n",
       " 'ggplot',\n",
       " 'grayscale',\n",
       " 'seaborn-v0_8',\n",
       " 'seaborn-v0_8-bright',\n",
       " 'seaborn-v0_8-colorblind',\n",
       " 'seaborn-v0_8-dark',\n",
       " 'seaborn-v0_8-dark-palette',\n",
       " 'seaborn-v0_8-darkgrid',\n",
       " 'seaborn-v0_8-deep',\n",
       " 'seaborn-v0_8-muted',\n",
       " 'seaborn-v0_8-notebook',\n",
       " 'seaborn-v0_8-paper',\n",
       " 'seaborn-v0_8-pastel',\n",
       " 'seaborn-v0_8-poster',\n",
       " 'seaborn-v0_8-talk',\n",
       " 'seaborn-v0_8-ticks',\n",
       " 'seaborn-v0_8-white',\n",
       " 'seaborn-v0_8-whitegrid',\n",
       " 'tableau-colorblind10']"
      ]
     },
     "execution_count": 18,
     "metadata": {},
     "output_type": "execute_result"
    }
   ],
   "source": [
    "plt.style.available"
   ]
  },
  {
   "cell_type": "code",
   "execution_count": 39,
   "metadata": {},
   "outputs": [
    {
     "data": {
      "image/png": "[encoded data removed]",
      "text/plain": [
       "<Figure size 480x320 with 1 Axes>"
      ]
     },
     "metadata": {},
     "output_type": "display_data"
    }
   ],
   "source": [
    "# Alternative method using ConsiseDateFormatter and ConsiseDateLocator\n",
    "plt.style.use('seaborn-v0_8-muted')\n",
    "\n",
    "fig, ax = plt.subplots(figsize = (6,4))\n",
    "\n",
    "plt.plot(df.index, df['dryBulbTemperature_Celsius'])\n",
    "\n",
    "ax.set(xlabel='Time',\n",
    "       ylabel = 'Temperature (Celsius)',\n",
    "       title = 'Temperature Fluctuations in Athenry')\n",
    "\n",
    "formats = ['%y',          # ticks are mostly years\n",
    "           '%b',          # ticks are mostly months\n",
    "           '%d',          # ticks are mostly days\n",
    "           '%H',          # hrs\n",
    "           '%H:%M',       # min\n",
    "           '%S.%f', ]     # secs\n",
    "\n",
    "\n",
    "zero_formats = [''] + formats[:-1]\n",
    "\n",
    "# At 12am, format the time as date month\n",
    "zero_formats[3] = '%d %b'\n",
    "\n",
    "# Format the date on the right as:\n",
    "offset_formats = ['',\n",
    "                  '%Y',\n",
    "                  '%b %Y',\n",
    "                  '%d %b %Y',\n",
    "                  '%d %b %Y',\n",
    "                  '%d %b %Y %H:%M', ]\n",
    "\n",
    "ax.xaxis.set_major_formatter(mdates.ConciseDateFormatter(mdates.AutoDateLocator, offset_formats= offset_formats, zero_formats=zero_formats))\n",
    "\n",
    "ax.xaxis.set_major_locator(mdates.AutoDateLocator(interval_multiples=3))                 # make major ticks on new date\n",
    "\n",
    "#https://matplotlib.org/stable/gallery/ticks/date_concise_formatter.html\n",
    "\n",
    "#https://www.useful-python.com/en/matplotlib-datetime/#index_id7\n",
    "\n",
    "# https://www.oreilly.com/library/view/python-data-science/9781491912126/ch04.html\n",
    "\n",
    "\n",
    "plt.show()"
   ]
  },
  {
   "cell_type": "markdown",
   "metadata": {},
   "source": [
    "### References\n",
    "\n"
   ]
  },
  {
   "cell_type": "markdown",
   "metadata": {},
   "source": [
    "[Convert columns into datetime when using pandas to read csv files](https://khuyentran1401.github.io/Efficient_Python_tricks_and_tools_for_data_scientists/Chapter3/date_time.html)\n",
    "\n",
    "\n",
    "https://stackoverflow.com/questions/72969795/matplotlib-wont-follow-date-format-set-by-set-major-formatter-or-set-minor-form\n",
    "\n",
    "[Customize Dates on Times Series Plots in Python Using Matplotlib](https://www.earthdatascience.org/courses/use-data-open-source-python/use-time-series-data-in-python/date-time-types-in-pandas-python/customize-dates-matplotlib-plots-python/)\n",
    "\n",
    "[Matplottib won't show minor ticks when using subplots](https://stackoverflow.com/questions/56657712/matplotlib-wont-show-minor-ticks-when-using-subplots)\n",
    "\n",
    "[How to turn on minor ticks on y axis](https://stackoverflow.com/questions/12711202/how-to-turn-on-minor-ticks-only-on-y-axis)\n",
    "\n",
    "[matplotlib.dates](https://matplotlib.org/stable/api/dates_api.html)\n",
    "\n",
    "https://docs.python.org/3/library/datetime.html#strftime-and-strptime-format-codes\n",
    "\n",
    "[Tick locating and formatting](https://matplotlib.org/stable/api/ticker_api.html#matplotlib.ticker.Formatter)"
   ]
  }
 ],
 "metadata": {
  "kernelspec": {
   "display_name": "base",
   "language": "python",
   "name": "python3"
  },
  "language_info": {
   "codemirror_mode": {
    "name": "ipython",
    "version": 3
   },
   "file_extension": ".py",
   "mimetype": "text/x-python",
   "name": "python",
   "nbconvert_exporter": "python",
   "pygments_lexer": "ipython3",
   "version": "3.11.9"
  }
 },
 "nbformat": 4,
 "nbformat_minor": 2
}

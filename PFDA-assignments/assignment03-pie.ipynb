{
 "cells": [
  {
   "cell_type": "markdown",
   "metadata": {},
   "source": [
    "# Assignment 3: Create a Pie Chart\n",
    "\n",
    "Create a pie chart of the email domains in the csv file at the url, https://drive.google.com/uc?id=1AWPf-pJodJKeHsARQK_RHiNsE8fjPCVK&export=download\n",
    "\n",
    "Author: Irene Kilgannon"
   ]
  },
  {
   "cell_type": "markdown",
   "metadata": {},
   "source": [
    "### What's a pie chart?\n",
    "\n",
    "A [pie chart](https://en.wikipedia.org/wiki/Pie_chart) is a circular statistical chart divided into slices, with the size of the slice representing a fraction of the whole. They are usually used for categorical variables. \n",
    "\n",
    "A [good pie chart](https://www.atlassian.com/data/charts/pie-chart-complete-guide) will include annotations, consider the order of the slices and start from the top or the right. If there are too many categories a pie chart can become cluttered and difficult to read. "
   ]
  },
  {
   "cell_type": "code",
   "execution_count": 1,
   "metadata": {},
   "outputs": [],
   "source": [
    "# Import the required modules\n",
    "import pandas as pd\n",
    "import matplotlib.pyplot as plt"
   ]
  },
  {
   "cell_type": "code",
   "execution_count": 2,
   "metadata": {},
   "outputs": [],
   "source": [
    "# Load the csv file with the required column.\n",
    "df = pd.read_csv('https://drive.google.com/uc?id=1AWPf-pJodJKeHsARQK_RHiNsE8fjPCVK&export=download', \n",
    "                usecols= ['Email'])"
   ]
  },
  {
   "cell_type": "code",
   "execution_count": 3,
   "metadata": {},
   "outputs": [
    {
     "data": {
      "text/html": [
       "<div>\n",
       "<style scoped>\n",
       "    .dataframe tbody tr th:only-of-type {\n",
       "        vertical-align: middle;\n",
       "    }\n",
       "\n",
       "    .dataframe tbody tr th {\n",
       "        vertical-align: top;\n",
       "    }\n",
       "\n",
       "    .dataframe thead th {\n",
       "        text-align: right;\n",
       "    }\n",
       "</style>\n",
       "<table border=\"1\" class=\"dataframe\">\n",
       "  <thead>\n",
       "    <tr style=\"text-align: right;\">\n",
       "      <th></th>\n",
       "      <th>Email</th>\n",
       "    </tr>\n",
       "  </thead>\n",
       "  <tbody>\n",
       "    <tr>\n",
       "      <th>0</th>\n",
       "      <td>pwarner@example.org</td>\n",
       "    </tr>\n",
       "    <tr>\n",
       "      <th>1</th>\n",
       "      <td>fergusonkatherine@example.net</td>\n",
       "    </tr>\n",
       "    <tr>\n",
       "      <th>2</th>\n",
       "      <td>fhoward@example.org</td>\n",
       "    </tr>\n",
       "    <tr>\n",
       "      <th>3</th>\n",
       "      <td>zjohnston@example.com</td>\n",
       "    </tr>\n",
       "    <tr>\n",
       "      <th>4</th>\n",
       "      <td>elin@example.net</td>\n",
       "    </tr>\n",
       "  </tbody>\n",
       "</table>\n",
       "</div>"
      ],
      "text/plain": [
       "                           Email\n",
       "0            pwarner@example.org\n",
       "1  fergusonkatherine@example.net\n",
       "2            fhoward@example.org\n",
       "3          zjohnston@example.com\n",
       "4               elin@example.net"
      ]
     },
     "execution_count": 3,
     "metadata": {},
     "output_type": "execute_result"
    }
   ],
   "source": [
    "# Check the dataset loaded correctly.\n",
    "df.head()"
   ]
  },
  {
   "cell_type": "markdown",
   "metadata": {},
   "source": [
    "Python has a number of [built-in string methods](https://www.w3schools.com/python/python_ref_string.asp) that can be used on strings. To extract the domain name from the email addresses the split string method can be used. Split() will split a string into a list at a separator. If no separator is specified the default separator is whitespace. \n",
    "\n",
    "The syntax for split() is:\n",
    "```python\n",
    "string.split(separator, maxsplit)\n",
    "```\n",
    "\n",
    "For the email addresses the string will be split in two. The domain name can be accessed with string slicing, to access the second item in the list created by the split() method. \n",
    "[Topic 03- pandas](https://github.com/andrewbeattycourseware/PFDA-courseware/blob/main/code/Topic03-pandas/lecture/Pandas02%20manipulation.ipynb) of this module programming for data analytics demonstrated this part of the task. "
   ]
  },
  {
   "cell_type": "code",
   "execution_count": 4,
   "metadata": {},
   "outputs": [
    {
     "data": {
      "text/html": [
       "<div>\n",
       "<style scoped>\n",
       "    .dataframe tbody tr th:only-of-type {\n",
       "        vertical-align: middle;\n",
       "    }\n",
       "\n",
       "    .dataframe tbody tr th {\n",
       "        vertical-align: top;\n",
       "    }\n",
       "\n",
       "    .dataframe thead th {\n",
       "        text-align: right;\n",
       "    }\n",
       "</style>\n",
       "<table border=\"1\" class=\"dataframe\">\n",
       "  <thead>\n",
       "    <tr style=\"text-align: right;\">\n",
       "      <th></th>\n",
       "      <th>Email</th>\n",
       "      <th>domain</th>\n",
       "    </tr>\n",
       "  </thead>\n",
       "  <tbody>\n",
       "    <tr>\n",
       "      <th>0</th>\n",
       "      <td>pwarner@example.org</td>\n",
       "      <td>example.org</td>\n",
       "    </tr>\n",
       "    <tr>\n",
       "      <th>1</th>\n",
       "      <td>fergusonkatherine@example.net</td>\n",
       "      <td>example.net</td>\n",
       "    </tr>\n",
       "    <tr>\n",
       "      <th>2</th>\n",
       "      <td>fhoward@example.org</td>\n",
       "      <td>example.org</td>\n",
       "    </tr>\n",
       "  </tbody>\n",
       "</table>\n",
       "</div>"
      ],
      "text/plain": [
       "                           Email       domain\n",
       "0            pwarner@example.org  example.org\n",
       "1  fergusonkatherine@example.net  example.net\n",
       "2            fhoward@example.org  example.org"
      ]
     },
     "execution_count": 4,
     "metadata": {},
     "output_type": "execute_result"
    }
   ],
   "source": [
    "# Split the email address, make a new column of the domain name with the second item in the list created by split()\n",
    "df['domain'] = df['Email'].str.split('@').str[1]\n",
    "df.head(3)"
   ]
  },
  {
   "cell_type": "code",
   "execution_count": 5,
   "metadata": {},
   "outputs": [
    {
     "data": {
      "text/plain": [
       "domain\n",
       "example.org    341\n",
       "example.com    339\n",
       "example.net    320\n",
       "Name: count, dtype: int64"
      ]
     },
     "execution_count": 5,
     "metadata": {},
     "output_type": "execute_result"
    }
   ],
   "source": [
    "# Count the values in the domain name. This will count the number of each item in the domain column.\n",
    "domain_count = df['domain'].value_counts()\n",
    "domain_count"
   ]
  },
  {
   "cell_type": "markdown",
   "metadata": {},
   "source": [
    "Pie charts are created in matplotlib with the pie() function. [W3 schools](https://www.w3schools.com/python/matplotlib_pie_charts.asp) and the [matplotlib documentation on pie charts](https://matplotlib.org/stable/gallery/pie_and_polar_charts/pie_features.html) were used to construct the pie chart and the parameters that are available for them. \n",
    "\n",
    "Additional documentation about the [legend class](https://matplotlib.org/stable/api/legend_api.html) was consulted to optimise the position of the legend as it was originally situated on top of the pie chart. There are two methods to position a legend, loc or bbox_to_anchor (x, y, width, height). The parameters for bbox_to_anchor are a 2-tuple (x, y) or 4-tuple (x, y, width, height). Loc takes a string e.g. 'best' or 'lower centre' or a pair of floats. "
   ]
  },
  {
   "cell_type": "code",
   "execution_count": 6,
   "metadata": {},
   "outputs": [
    {
     "data": {
      "image/png": "[encoded data removed]",
      "text/plain": [
       "<Figure size 640x480 with 1 Axes>"
      ]
     },
     "metadata": {},
     "output_type": "display_data"
    }
   ],
   "source": [
    "# Create the pie chart\n",
    "fig, ax = plt.subplots()\n",
    "\n",
    "# Set the labels for the chart\n",
    "labels = ['example.org', 'example.net', 'example.net']\n",
    "\n",
    "# Create the pie chart\n",
    "plt.pie(domain_count,\n",
    "        # Display the percentages to one decimal place\n",
    "        autopct='%1.1f%%',\n",
    "        # Colours for the pie chart\n",
    "        colors= ['#50C878', '#FF40C9', '#009DFF'], \n",
    "        # Slight gap between the wedges\n",
    "        wedgeprops={\"linewidth\": 1, \"edgecolor\": \"white\"})\n",
    "\n",
    "# Set title and title position\n",
    "plt.title('Pie Chart of Domain Names', y= 0.93)\n",
    "\n",
    "# Set the legend and position of legend\n",
    "ax.legend(labels, title = 'Domain names', bbox_to_anchor=(0.93, 0.75))\n",
    "\n",
    "# Display the plot\n",
    "plt.show()"
   ]
  },
  {
   "cell_type": "markdown",
   "metadata": {},
   "source": [
    "## References\n",
    "\n",
    "https://matplotlib.org/stable/plot_types/stats/pie.html#sphx-glr-plot-types-stats-pie-py\n",
    "\n",
    "https://www.geeksforgeeks.org/plot-a-pie-chart-in-python-using-matplotlib/"
   ]
  },
  {
   "cell_type": "markdown",
   "metadata": {},
   "source": [
    "End\n",
    "\n",
    "***"
   ]
  }
 ],
 "metadata": {
  "kernelspec": {
   "display_name": "base",
   "language": "python",
   "name": "python3"
  },
  "language_info": {
   "codemirror_mode": {
    "name": "ipython",
    "version": 3
   },
   "file_extension": ".py",
   "mimetype": "text/x-python",
   "name": "python",
   "nbconvert_exporter": "python",
   "pygments_lexer": "ipython3",
   "version": "3.11.9"
  }
 },
 "nbformat": 4,
 "nbformat_minor": 2
}
